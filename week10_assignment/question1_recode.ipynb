{
 "cells": [
  {
   "cell_type": "markdown",
   "metadata": {},
   "source": [
    "### Taget: Using python and numpy implement a neural network framework\n",
    "> Node:\n",
    "+ forward: *Function*, how to caculate the inputs\n",
    "+ backwards: *Function*, how to get the gradients when backpropogation\n",
    "+ gradients: *Mapper*, the gradients this node to its inputs node\n",
    "+ inputs: *List*, the input nodes of this node\n",
    "+ outputs: *List*, the output node of this node"
   ]
  },
  {
   "cell_type": "code",
   "execution_count": 1,
   "metadata": {},
   "outputs": [],
   "source": [
    "class Node:\n",
    "    \"\"\"\n",
    "    Each node in neural networks will have these attributes and methods\n",
    "    \"\"\"\n",
    "    def __init__(self, inputs=[]):\n",
    "        \"\"\"\n",
    "        if the node is the operator of \"ax + b\", the inputs will be x node , and the outputs \n",
    "        of this is its successors. \n",
    "        \n",
    "        and the value is *ax + b*\n",
    "        \"\"\"\n",
    "        self.inputs = inputs # input_list <- C, Java <- 匈牙利命名法 -> Python 特别不建议\n",
    "       # self.outputs = outputs # output_list \n",
    "        self.value = None \n",
    "        self.outputs = []\n",
    "        self.gradients = {}\n",
    "        \n",
    "        for node in self.inputs:\n",
    "            node.outputs.append(self) # build a connection relationship\n",
    "    \n",
    "    def forward(self):\n",
    "        \"\"\"Forward propogation\n",
    "        \n",
    "        compute the output value based on input nodes and store the value \n",
    "        into *self.value*\n",
    "        \"\"\"\n",
    "        raise NotImplemented\n",
    "    \n",
    "    def backward(self):\n",
    "        \"\"\" Back propogation\n",
    "        \n",
    "        compute the gradient of each input node and store the value \n",
    "        into \"self.gredients\"\n",
    "        \"\"\"\n",
    "        raise NotImplemented"
   ]
  },
  {
   "cell_type": "code",
   "execution_count": 2,
   "metadata": {},
   "outputs": [],
   "source": [
    "def Input(Node):\n",
    "    def __init__(self, name = ''):\n",
    "        self.name = name\n",
    "        Node.__init__(self, inputs=[])\n",
    "        \n",
    "    def forward(self, value = None):\n",
    "        if value is not None:\n",
    "            self.value = value\n",
    "    \n",
    "    def backward(self):\n",
    "        for n in self.outputs:\n",
    "            grad_cost = n.gradients[self]\n",
    "            self.gradients[self] = grad_cost\n",
    "            \n",
    "    def __repr__(self):\n",
    "        return 'Input Node: {}'.format(self.name)"
   ]
  },
  {
   "cell_type": "code",
   "execution_count": 3,
   "metadata": {},
   "outputs": [],
   "source": [
    "class Input(Node):\n",
    "    def __init__(self, name=''):\n",
    "        Node.__init__(self, inputs=[])\n",
    "        self.name= name\n",
    "    \n",
    "    def forward(self, value=None):\n",
    "        if value is not None:\n",
    "            self.value = value\n",
    "        \n",
    "    def backward(self):\n",
    "        self.gradients = {}\n",
    "        \n",
    "        for n in self.outputs:\n",
    "            grad_cost = n.gradients[self]\n",
    "            self.gradients[self] = grad_cost\n",
    "    \n",
    "    def __repr__(self):\n",
    "        return 'Input Node: {}'.format(self.name)"
   ]
  },
  {
   "cell_type": "code",
   "execution_count": 4,
   "metadata": {},
   "outputs": [],
   "source": [
    "class Linear(Node):\n",
    "    def __init__(self, nodes, weights, bias):\n",
    "        self.w_node = weights\n",
    "        self.x_node = nodes\n",
    "        self.b_node = bias\n",
    "        Node.__init__(self, inputs=[nodes, weights, bias])\n",
    "    \n",
    "    def forward(self): \n",
    "        \"\"\"compute the wx + b using numpy\"\"\"\n",
    "        self.value = np.dot(self.x_node.value, self.w_node.value) + self.b_node.value\n",
    "        \n",
    "    \n",
    "    def backward(self):\n",
    "        \n",
    "        for node in self.outputs:\n",
    "            #gradient_of_loss_of_this_output_node = node.gradient[self]\n",
    "            grad_cost = node.gradients[self]\n",
    "            self.gradients[self.w_node] = np.dot(self.x_node.value.T, grad_cost)\n",
    "            self.gradients[self.x_node] = np.dot(grad_cost, self.w_node.value.T)\n",
    "            self.gradients[self.b_node] = np.sum(grad_cost * 1, axis = 0, keepdims=False)"
   ]
  },
  {
   "cell_type": "code",
   "execution_count": 5,
   "metadata": {},
   "outputs": [],
   "source": [
    "class Sigmoid(Node):\n",
    "    def __init__(self, node):\n",
    "        self.x_node = node\n",
    "        Node.__init__(self, inputs=[node])\n",
    "        \n",
    "    def _sigmoid(self, x):\n",
    "        return 1 / (1 + np.exp(-1 * x))\n",
    "        \n",
    "    def forward(self):\n",
    "        self.value = self._sigmoid(self.x_node.value)\n",
    "    \n",
    "    def backward(self):\n",
    "        y = self.value\n",
    "        self.partial = y * (1- y)\n",
    "        \n",
    "        for node in self.outputs:\n",
    "            grad_cost = node.gradients[self]\n",
    "            self.gradients[self.x_node] = grad_cost * self.partial"
   ]
  },
  {
   "cell_type": "code",
   "execution_count": 6,
   "metadata": {},
   "outputs": [],
   "source": [
    "class MSE(Node):\n",
    "    def __init__(self, y_true, y_hat):\n",
    "        self.y_true_node = y_true\n",
    "        self.y_hat_node = y_hat\n",
    "        Node.__init__(self, inputs=[y_true, y_hat])\n",
    "        \n",
    "    def forward(self):\n",
    "        y_true_flatten = self.y_true_node.value.reshape(-1,1)\n",
    "        y_hat_flatten = self.y_hat_node.value.reshape(-1,1)\n",
    "        self.diff = y_true_flatten - y_hat_flatten\n",
    "        self.value = np.mean(self.diff ** 2)\n",
    "        \n",
    "    def backward(self):\n",
    "        n = self.y_hat_node.value.shape[0]\n",
    "        \n",
    "        self.gradients[self.y_true_node] = (2 / n) * self.diff\n",
    "        self.gradients[self.y_hat_node] = (-2 / n) * self.diff"
   ]
  },
  {
   "cell_type": "code",
   "execution_count": 7,
   "metadata": {},
   "outputs": [],
   "source": [
    "def training_one_batch(topological_sorted_graph):\n",
    "    ## graph 是经过拓扑排序之后的一个list\n",
    "    for node in topological_sorted_graph:\n",
    "        node.forward()\n",
    "    for node in topological_sorted_graph[::-1]:\n",
    "        node.backward()"
   ]
  },
  {
   "cell_type": "code",
   "execution_count": 8,
   "metadata": {},
   "outputs": [],
   "source": [
    "def topological_sort(data_with_value):\n",
    "    feed_dict = data_with_value\n",
    "    input_nodes = [n for n in feed_dict.keys()]\n",
    "    G = {}\n",
    "    nodes = [n for n in input_nodes]\n",
    "    while len(nodes) > 0:\n",
    "        n = nodes.pop(0)\n",
    "        if n not in G:\n",
    "            G[n] = {'in':set(), 'out': set()}\n",
    "        for m in n.outputs:\n",
    "            if m not in G:\n",
    "                G[m] = {'in':set(), 'out':set()}\n",
    "            G[n]['out'].add(m)\n",
    "            G[m]['in'].add(n)\n",
    "            nodes.append(m)   \n",
    "    L = []\n",
    "    S = set(input_nodes)\n",
    "    while len(S) > 0:\n",
    "        n = S.pop()\n",
    "        \n",
    "        if isinstance(n, Input):\n",
    "            n.value = feed_dict[n]\n",
    "        ## if n is input node, set n'value as \n",
    "        ## feed_dict[n]\n",
    "        ## else, n's value is caculate as its\n",
    "        ## inbounds\n",
    "        L.append(n)\n",
    "        for m in n.outputs:\n",
    "            G[n]['out'].remove(m)\n",
    "            G[m]['in'].remove(n)\n",
    "            ## if no other incoming edges add to S\n",
    "            if len(G[m]['in']) == 0:\n",
    "                S.add(m)\n",
    "    \n",
    "    return L"
   ]
  },
  {
   "cell_type": "code",
   "execution_count": 9,
   "metadata": {},
   "outputs": [],
   "source": [
    "def sgd_update(trainable_nodes, learning_rate=1e-2):\n",
    "    for t in trainable_nodes:\n",
    "        t.value += -1 * learning_rate * t.gradients[t]"
   ]
  },
  {
   "cell_type": "markdown",
   "metadata": {},
   "source": [
    "#### Preprocessing data"
   ]
  },
  {
   "cell_type": "code",
   "execution_count": 10,
   "metadata": {},
   "outputs": [],
   "source": [
    "from sklearn.datasets import load_boston\n",
    "import numpy as np\n",
    "data = load_boston()\n",
    "X_ = data['data']\n",
    "y_ = data['target']"
   ]
  },
  {
   "cell_type": "code",
   "execution_count": 11,
   "metadata": {},
   "outputs": [],
   "source": [
    "X_ = (X_ - np.mean(X_, axis = 0)) / np.std(X_, axis=0)"
   ]
  },
  {
   "cell_type": "code",
   "execution_count": 12,
   "metadata": {},
   "outputs": [],
   "source": [
    "n_features = X_.shape[1]\n",
    "n_hidden = 10\n",
    "n_hidden_2 = 1"
   ]
  },
  {
   "cell_type": "code",
   "execution_count": 13,
   "metadata": {},
   "outputs": [],
   "source": [
    "W1_, b1_ = np.random.randn(n_features, n_hidden), np.zeros(n_hidden)\n",
    "W2_, b2_ = np.random.randn(n_hidden, n_hidden_2), np.zeros(n_hidden_2)\n",
    "# W3_, b3_ = np.random.randn(n_hidden_2, 1), np.zeros(1)"
   ]
  },
  {
   "cell_type": "markdown",
   "metadata": {},
   "source": [
    "#### Build a graph connection"
   ]
  },
  {
   "cell_type": "markdown",
   "metadata": {},
   "source": [
    "##### 1st Build Nodes in this graph"
   ]
  },
  {
   "cell_type": "code",
   "execution_count": 14,
   "metadata": {},
   "outputs": [],
   "source": [
    "X, y = Input(name='X'), Input(name='Y')\n",
    "W1, b1 = Input(name='W1'), Input(name='b1')\n",
    "W2, b2 = Input(name='W2'), Input(name='b2')\n",
    "# W3, b3 = Input(name='W3'), Input(name='b3')"
   ]
  },
  {
   "cell_type": "markdown",
   "metadata": {},
   "source": [
    "##### 2nd build connection relationship"
   ]
  },
  {
   "cell_type": "code",
   "execution_count": 15,
   "metadata": {},
   "outputs": [],
   "source": [
    "linear_output = Linear(X, W1, b1)\n",
    "sigmoid_output = Sigmoid(linear_output)\n",
    "y_hat = Linear(sigmoid_output, W2, b2)\n",
    "loss = MSE(y, y_hat)"
   ]
  },
  {
   "cell_type": "code",
   "execution_count": 16,
   "metadata": {},
   "outputs": [],
   "source": [
    "input_node_with_value = {   # -> feed_dict\n",
    "    X:X_,\n",
    "    y:y_,\n",
    "    W1:W1_,\n",
    "    b1:b1_,\n",
    "    W2:W2_,\n",
    "    b2:b2_\n",
    "}"
   ]
  },
  {
   "cell_type": "code",
   "execution_count": 17,
   "metadata": {},
   "outputs": [],
   "source": [
    "graph = topological_sort(input_node_with_value)"
   ]
  },
  {
   "cell_type": "code",
   "execution_count": 18,
   "metadata": {},
   "outputs": [
    {
     "data": {
      "text/plain": [
       "[Input Node: X,\n",
       " Input Node: Y,\n",
       " Input Node: W2,\n",
       " Input Node: b1,\n",
       " Input Node: b2,\n",
       " Input Node: W1,\n",
       " <__main__.Linear at 0x7fb4f8841e80>,\n",
       " <__main__.Sigmoid at 0x7fb4f8841e48>,\n",
       " <__main__.Linear at 0x7fb4f8841ef0>,\n",
       " <__main__.MSE at 0x7fb4f8841828>]"
      ]
     },
     "execution_count": 18,
     "metadata": {},
     "output_type": "execute_result"
    }
   ],
   "source": [
    "graph"
   ]
  },
  {
   "cell_type": "code",
   "execution_count": 19,
   "metadata": {},
   "outputs": [],
   "source": [
    "from sklearn.utils import resample"
   ]
  },
  {
   "cell_type": "code",
   "execution_count": 20,
   "metadata": {},
   "outputs": [
    {
     "data": {
      "text/plain": [
       "array([38,  3, 82, 63, 80, 54, 86, 94, 47, 34])"
      ]
     },
     "execution_count": 20,
     "metadata": {},
     "output_type": "execute_result"
    }
   ],
   "source": [
    "np.random.choice(range(100), size=10, replace=True)"
   ]
  },
  {
   "cell_type": "code",
   "execution_count": 21,
   "metadata": {},
   "outputs": [],
   "source": [
    "def run(dictionary):\n",
    "    return topological_sort(dictionary)"
   ]
  },
  {
   "cell_type": "code",
   "execution_count": 22,
   "metadata": {},
   "outputs": [
    {
     "name": "stdout",
     "output_type": "stream",
     "text": [
      "Epoch: 1, loss = 646.973\n",
      "Epoch: 101, loss = 162.530\n",
      "Epoch: 201, loss = 49.931\n",
      "Epoch: 301, loss = 66.072\n",
      "Epoch: 401, loss = 32.288\n",
      "Epoch: 501, loss = 44.344\n",
      "Epoch: 601, loss = 50.287\n",
      "Epoch: 701, loss = 28.035\n",
      "Epoch: 801, loss = 19.258\n",
      "Epoch: 901, loss = 43.351\n",
      "Epoch: 1001, loss = 14.426\n",
      "Epoch: 1101, loss = 22.545\n",
      "Epoch: 1201, loss = 55.329\n",
      "Epoch: 1301, loss = 22.338\n",
      "Epoch: 1401, loss = 18.486\n",
      "Epoch: 1501, loss = 19.997\n",
      "Epoch: 1601, loss = 21.690\n",
      "Epoch: 1701, loss = 24.463\n",
      "Epoch: 1801, loss = 16.487\n",
      "Epoch: 1901, loss = 13.477\n",
      "Epoch: 2001, loss = 13.517\n",
      "Epoch: 2101, loss = 16.655\n",
      "Epoch: 2201, loss = 19.902\n",
      "Epoch: 2301, loss = 24.429\n",
      "Epoch: 2401, loss = 19.517\n",
      "Epoch: 2501, loss = 26.161\n",
      "Epoch: 2601, loss = 13.059\n",
      "Epoch: 2701, loss = 22.220\n",
      "Epoch: 2801, loss = 20.188\n",
      "Epoch: 2901, loss = 14.456\n",
      "Epoch: 3001, loss = 16.801\n",
      "Epoch: 3101, loss = 13.823\n",
      "Epoch: 3201, loss = 8.340\n",
      "Epoch: 3301, loss = 12.225\n",
      "Epoch: 3401, loss = 19.644\n",
      "Epoch: 3501, loss = 14.673\n",
      "Epoch: 3601, loss = 8.181\n",
      "Epoch: 3701, loss = 26.942\n",
      "Epoch: 3801, loss = 15.447\n",
      "Epoch: 3901, loss = 11.919\n",
      "Epoch: 4001, loss = 6.853\n",
      "Epoch: 4101, loss = 7.624\n",
      "Epoch: 4201, loss = 11.199\n",
      "Epoch: 4301, loss = 16.251\n",
      "Epoch: 4401, loss = 18.683\n",
      "Epoch: 4501, loss = 20.585\n",
      "Epoch: 4601, loss = 12.805\n",
      "Epoch: 4701, loss = 10.057\n",
      "Epoch: 4801, loss = 10.904\n",
      "Epoch: 4901, loss = 16.540\n"
     ]
    }
   ],
   "source": [
    "losses = []\n",
    "epochs = 5000\n",
    "batch_size = 64\n",
    "steps_per_epoch = 1\n",
    "# steps_per_epoch = X_.shape[0] // batch_size\n",
    "\n",
    "for i in range(epochs):\n",
    "    loss = 0\n",
    "    \n",
    "    for batch in range(steps_per_epoch):\n",
    "        x_batch, y_batch = resample(X_, y_, n_samples=batch_size)\n",
    "        X.value = x_batch\n",
    "        y.value = y_batch\n",
    "        \n",
    "        training_one_batch(graph)\n",
    "        learning_rate = 1e-3\n",
    "        sgd_update(trainable_nodes=[W1, W2, b1, b2], learning_rate=learning_rate)\n",
    "        loss += graph[-1].value\n",
    "    if i % 100 == 0:\n",
    "        print('Epoch: {}, loss = {:.3f}'.format(i + 1, loss/steps_per_epoch))\n",
    "        losses.append(loss)"
   ]
  },
  {
   "cell_type": "code",
   "execution_count": 23,
   "metadata": {},
   "outputs": [],
   "source": [
    "import matplotlib.pyplot as plt"
   ]
  },
  {
   "cell_type": "code",
   "execution_count": 24,
   "metadata": {},
   "outputs": [
    {
     "data": {
      "text/plain": [
       "[<matplotlib.lines.Line2D at 0x7fb4f6e7c0b8>]"
      ]
     },
     "execution_count": 24,
     "metadata": {},
     "output_type": "execute_result"
    },
    {
     "data": {
      "image/png": "[encoded data removed]",
      "text/plain": [
       "<Figure size 432x288 with 1 Axes>"
      ]
     },
     "metadata": {
      "needs_background": "light"
     },
     "output_type": "display_data"
    }
   ],
   "source": [
    "plt.plot(losses)"
   ]
  },
  {
   "cell_type": "code",
   "execution_count": null,
   "metadata": {},
   "outputs": [],
   "source": []
  },
  {
   "cell_type": "code",
   "execution_count": null,
   "metadata": {},
   "outputs": [],
   "source": []
  },
  {
   "cell_type": "code",
   "execution_count": null,
   "metadata": {},
   "outputs": [],
   "source": []
  }
 ],
 "metadata": {
  "kernelspec": {
   "display_name": "Python 3",
   "language": "python",
   "name": "python3"
  },
  "language_info": {
   "codemirror_mode": {
    "name": "ipython",
    "version": 3
   },
   "file_extension": ".py",
   "mimetype": "text/x-python",
   "name": "python",
   "nbconvert_exporter": "python",
   "pygments_lexer": "ipython3",
   "version": "3.6.9"
  }
 },
 "nbformat": 4,
 "nbformat_minor": 2
}

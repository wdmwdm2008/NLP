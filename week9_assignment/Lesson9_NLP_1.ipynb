{
 "cells": [
  {
   "cell_type": "code",
   "execution_count": 1,
   "metadata": {},
   "outputs": [],
   "source": [
    "from __future__ import print_function\n",
    "import imageio\n",
    "import matplotlib.pyplot as plt\n",
    "import numpy as np\n",
    "import os\n",
    "import sys\n",
    "import time\n",
    "import tarfile\n",
    "from IPython.display import display, Image\n",
    "from sklearn.linear_model import LogisticRegression\n",
    "from six.moves.urllib.request import urlretrieve\n",
    "from six.moves import cPickle as pickle"
   ]
  },
  {
   "cell_type": "code",
   "execution_count": 2,
   "metadata": {},
   "outputs": [],
   "source": [
    "url = 'https://commondatastorage.googleapis.com/books1000/'\n",
    "last_percent_reported = None\n",
    "data_root = 'C:\\\\study\\\\AI Training and Jobs\\\\NLP_CV_Course\\\\week_9\\\\' # Change me to store data elsewhere"
   ]
  },
  {
   "cell_type": "code",
   "execution_count": 17,
   "metadata": {},
   "outputs": [
    {
     "name": "stdout",
     "output_type": "stream",
     "text": [
      "Attempting to download: notMNIST_large.tar.gz\n",
      "0%....5%....10%....15%....20%....25%....30%....35%....40%....45%....50%....55%....60%....65%....70%....75%....80%....85%....90%....95%....100%\n",
      "Download Complete!\n",
      "Found and verified C:\\study\\AI Training and Jobs\\NLP_CV_Course\\week_9\\notMNIST_large.tar.gz\n",
      "Attempting to download: notMNIST_small.tar.gz\n",
      "0%....5%....10%....15%....20%....25%....30%....35%....40%....45%....50%....55%....60%....65%....70%....75%....80%....85%....90%....95%....100%\n",
      "Download Complete!\n",
      "Found and verified C:\\study\\AI Training and Jobs\\NLP_CV_Course\\week_9\\notMNIST_small.tar.gz\n"
     ]
    }
   ],
   "source": [
    "def download_progress_hook(count, blockSize, totalSize):\n",
    "  \"\"\"A hook to report the progress of a download. This is mostly intended for users with\n",
    "  slow internet connections. Reports every 5% change in download progress.\n",
    "  \"\"\"\n",
    "  global last_percent_reported\n",
    "  percent = int(count * blockSize * 100 / totalSize)\n",
    "\n",
    "  if last_percent_reported != percent:\n",
    "    if percent % 5 == 0:\n",
    "      sys.stdout.write(\"%s%%\" % percent)\n",
    "      sys.stdout.flush()\n",
    "    else:\n",
    "      sys.stdout.write(\".\")\n",
    "      sys.stdout.flush()\n",
    "      \n",
    "    last_percent_reported = percent\n",
    "        \n",
    "def maybe_download(filename, expected_bytes, force=False):\n",
    "  \"\"\"Download a file if not present, and make sure it's the right size.\"\"\"\n",
    "  dest_filename = os.path.join(data_root, filename)\n",
    "  if force or not os.path.exists(dest_filename):\n",
    "    print('Attempting to download:', filename) \n",
    "    filename, _ = urlretrieve(url + filename, dest_filename, reporthook=download_progress_hook)\n",
    "    print('\\nDownload Complete!')\n",
    "  statinfo = os.stat(dest_filename)\n",
    "  if statinfo.st_size == expected_bytes:\n",
    "    print('Found and verified', dest_filename)\n",
    "  else:\n",
    "    raise Exception(\n",
    "      'Failed to verify ' + dest_filename + '. Can you get to it with a browser?')\n",
    "  return dest_filename\n",
    "\n",
    "train_filename = maybe_download('notMNIST_large.tar.gz', 247336696)\n",
    "test_filename = maybe_download('notMNIST_small.tar.gz', 8458043)"
   ]
  },
  {
   "cell_type": "code",
   "execution_count": 3,
   "metadata": {},
   "outputs": [],
   "source": [
    "num_classes = 10\n",
    "np.random.seed(133)"
   ]
  },
  {
   "cell_type": "code",
   "execution_count": 19,
   "metadata": {},
   "outputs": [
    {
     "name": "stdout",
     "output_type": "stream",
     "text": [
      "Extrating data for C:\\study\\AI Training and Jobs\\NLP_CV_Course\\week_9\\notMNIST_large. This may take a while. Please wait.\n",
      "['C:\\\\study\\\\AI Training and Jobs\\\\NLP_CV_Course\\\\week_9\\\\notMNIST_large\\\\A', 'C:\\\\study\\\\AI Training and Jobs\\\\NLP_CV_Course\\\\week_9\\\\notMNIST_large\\\\B', 'C:\\\\study\\\\AI Training and Jobs\\\\NLP_CV_Course\\\\week_9\\\\notMNIST_large\\\\C', 'C:\\\\study\\\\AI Training and Jobs\\\\NLP_CV_Course\\\\week_9\\\\notMNIST_large\\\\D', 'C:\\\\study\\\\AI Training and Jobs\\\\NLP_CV_Course\\\\week_9\\\\notMNIST_large\\\\E', 'C:\\\\study\\\\AI Training and Jobs\\\\NLP_CV_Course\\\\week_9\\\\notMNIST_large\\\\F', 'C:\\\\study\\\\AI Training and Jobs\\\\NLP_CV_Course\\\\week_9\\\\notMNIST_large\\\\G', 'C:\\\\study\\\\AI Training and Jobs\\\\NLP_CV_Course\\\\week_9\\\\notMNIST_large\\\\H', 'C:\\\\study\\\\AI Training and Jobs\\\\NLP_CV_Course\\\\week_9\\\\notMNIST_large\\\\I', 'C:\\\\study\\\\AI Training and Jobs\\\\NLP_CV_Course\\\\week_9\\\\notMNIST_large\\\\J']\n",
      "Extrating data for C:\\study\\AI Training and Jobs\\NLP_CV_Course\\week_9\\notMNIST_small. This may take a while. Please wait.\n",
      "['C:\\\\study\\\\AI Training and Jobs\\\\NLP_CV_Course\\\\week_9\\\\notMNIST_small\\\\A', 'C:\\\\study\\\\AI Training and Jobs\\\\NLP_CV_Course\\\\week_9\\\\notMNIST_small\\\\B', 'C:\\\\study\\\\AI Training and Jobs\\\\NLP_CV_Course\\\\week_9\\\\notMNIST_small\\\\C', 'C:\\\\study\\\\AI Training and Jobs\\\\NLP_CV_Course\\\\week_9\\\\notMNIST_small\\\\D', 'C:\\\\study\\\\AI Training and Jobs\\\\NLP_CV_Course\\\\week_9\\\\notMNIST_small\\\\E', 'C:\\\\study\\\\AI Training and Jobs\\\\NLP_CV_Course\\\\week_9\\\\notMNIST_small\\\\F', 'C:\\\\study\\\\AI Training and Jobs\\\\NLP_CV_Course\\\\week_9\\\\notMNIST_small\\\\G', 'C:\\\\study\\\\AI Training and Jobs\\\\NLP_CV_Course\\\\week_9\\\\notMNIST_small\\\\H', 'C:\\\\study\\\\AI Training and Jobs\\\\NLP_CV_Course\\\\week_9\\\\notMNIST_small\\\\I', 'C:\\\\study\\\\AI Training and Jobs\\\\NLP_CV_Course\\\\week_9\\\\notMNIST_small\\\\J']\n"
     ]
    }
   ],
   "source": [
    "def maybe_extract(filename, force=False):\n",
    "    root = os.path.splitext(os.path.splitext(filename)[0])[0]  # remove .tar.gz\n",
    "    if os.path.isdir(root) and not force:\n",
    "        print('%s already present - Skipping extration of %s' % (root, filename))\n",
    "    else:\n",
    "        print(\"Extrating data for %s. This may take a while. Please wait.\" % root)\n",
    "        tar = tarfile.open(filename)\n",
    "        sys.stdout.flush()\n",
    "        tar.extractall(data_root)\n",
    "        tar.close()\n",
    "    data_folders = [os.path.join(root, d) for d in sorted(os.listdir(root)) if os.path.isdir(os.path.join(root, d))]\n",
    "    if len(data_folders) != num_classes:\n",
    "        raise Exception('Expected %d folders, one per class. Found %d instead.' % (num_classes, len(data_folders)))\n",
    "    print(data_folders)\n",
    "    return data_folders\n",
    "\n",
    "train_folders = maybe_extract(train_filename)\n",
    "test_folders = maybe_extract(test_filename)"
   ]
  },
  {
   "cell_type": "markdown",
   "metadata": {},
   "source": [
    "## Problem 1"
   ]
  },
  {
   "cell_type": "code",
   "execution_count": 32,
   "metadata": {},
   "outputs": [
    {
     "data": {
      "image/png": "[encoded data removed]",
      "text/plain": [
       "<IPython.core.display.Image object>"
      ]
     },
     "metadata": {
      "image/png": {
       "unconfined": true,
       "width": 30
      }
     },
     "output_type": "display_data"
    },
    {
     "data": {
      "image/png": "[encoded data removed]",
      "text/plain": [
       "<IPython.core.display.Image object>"
      ]
     },
     "metadata": {
      "image/png": {
       "unconfined": true,
       "width": 30
      }
     },
     "output_type": "display_data"
    },
    {
     "data": {
      "image/png": "[encoded data removed]",
      "text/plain": [
       "<IPython.core.display.Image object>"
      ]
     },
     "metadata": {
      "image/png": {
       "unconfined": true,
       "width": 30
      }
     },
     "output_type": "display_data"
    },
    {
     "data": {
      "image/png": "[encoded data removed]",
      "text/plain": [
       "<IPython.core.display.Image object>"
      ]
     },
     "metadata": {
      "image/png": {
       "unconfined": true,
       "width": 30
      }
     },
     "output_type": "display_data"
    },
    {
     "data": {
      "image/png": "[encoded data removed]",
      "text/plain": [
       "<IPython.core.display.Image object>"
      ]
     },
     "metadata": {
      "image/png": {
       "unconfined": true,
       "width": 30
      }
     },
     "output_type": "display_data"
    },
    {
     "data": {
      "image/png": "[encoded data removed]",
      "text/plain": [
       "<IPython.core.display.Image object>"
      ]
     },
     "metadata": {
      "image/png": {
       "unconfined": true,
       "width": 30
      }
     },
     "output_type": "display_data"
    },
    {
     "data": {
      "image/png": "[encoded data removed]",
      "text/plain": [
       "<IPython.core.display.Image object>"
      ]
     },
     "metadata": {
      "image/png": {
       "unconfined": true,
       "width": 30
      }
     },
     "output_type": "display_data"
    },
    {
     "data": {
      "image/png": "[encoded data removed]",
      "text/plain": [
       "<IPython.core.display.Image object>"
      ]
     },
     "metadata": {
      "image/png": {
       "unconfined": true,
       "width": 30
      }
     },
     "output_type": "display_data"
    },
    {
     "data": {
      "image/png": "[encoded data removed]",
      "text/plain": [
       "<IPython.core.display.Image object>"
      ]
     },
     "metadata": {
      "image/png": {
       "unconfined": true,
       "width": 30
      }
     },
     "output_type": "display_data"
    },
    {
     "data": {
      "image/png": "[encoded data removed]",
      "text/plain": [
       "<IPython.core.display.Image object>"
      ]
     },
     "metadata": {
      "image/png": {
       "unconfined": true,
       "width": 30
      }
     },
     "output_type": "display_data"
    },
    {
     "data": {
      "image/png": "[encoded data removed]",
      "text/plain": [
       "<IPython.core.display.Image object>"
      ]
     },
     "metadata": {
      "image/png": {
       "unconfined": true,
       "width": 30
      }
     },
     "output_type": "display_data"
    },
    {
     "data": {
      "image/png": "[encoded data removed]",
      "text/plain": [
       "<IPython.core.display.Image object>"
      ]
     },
     "metadata": {
      "image/png": {
       "unconfined": true,
       "width": 30
      }
     },
     "output_type": "display_data"
    },
    {
     "data": {
      "image/png": "[encoded data removed]",
      "text/plain": [
       "<IPython.core.display.Image object>"
      ]
     },
     "metadata": {
      "image/png": {
       "unconfined": true,
       "width": 30
      }
     },
     "output_type": "display_data"
    },
    {
     "data": {
      "image/png": "[encoded data removed]",
      "text/plain": [
       "<IPython.core.display.Image object>"
      ]
     },
     "metadata": {
      "image/png": {
       "unconfined": true,
       "width": 30
      }
     },
     "output_type": "display_data"
    },
    {
     "data": {
      "image/png": "[encoded data removed]",
      "text/plain": [
       "<IPython.core.display.Image object>"
      ]
     },
     "metadata": {
      "image/png": {
       "unconfined": true,
       "width": 30
      }
     },
     "output_type": "display_data"
    },
    {
     "data": {
      "image/png": "[encoded data removed]",
      "text/plain": [
       "<IPython.core.display.Image object>"
      ]
     },
     "metadata": {
      "image/png": {
       "unconfined": true,
       "width": 30
      }
     },
     "output_type": "display_data"
    },
    {
     "data": {
      "image/png": "[encoded data removed]",
      "text/plain": [
       "<IPython.core.display.Image object>"
      ]
     },
     "metadata": {
      "image/png": {
       "unconfined": true,
       "width": 30
      }
     },
     "output_type": "display_data"
    },
    {
     "data": {
      "image/png": "[encoded data removed]",
      "text/plain": [
       "<IPython.core.display.Image object>"
      ]
     },
     "metadata": {
      "image/png": {
       "unconfined": true,
       "width": 30
      }
     },
     "output_type": "display_data"
    },
    {
     "data": {
      "image/png": "[encoded data removed]",
      "text/plain": [
       "<IPython.core.display.Image object>"
      ]
     },
     "metadata": {
      "image/png": {
       "unconfined": true,
       "width": 30
      }
     },
     "output_type": "display_data"
    },
    {
     "data": {
      "image/png": "[encoded data removed]",
      "text/plain": [
       "<IPython.core.display.Image object>"
      ]
     },
     "metadata": {
      "image/png": {
       "unconfined": true,
       "width": 30
      }
     },
     "output_type": "display_data"
    },
    {
     "data": {
      "image/png": "[encoded data removed]",
      "text/plain": [
       "<IPython.core.display.Image object>"
      ]
     },
     "metadata": {
      "image/png": {
       "unconfined": true,
       "width": 30
      }
     },
     "output_type": "display_data"
    },
    {
     "data": {
      "image/png": "[encoded data removed]",
      "text/plain": [
       "<IPython.core.display.Image object>"
      ]
     },
     "metadata": {
      "image/png": {
       "unconfined": true,
       "width": 30
      }
     },
     "output_type": "display_data"
    },
    {
     "data": {
      "image/png": "[encoded data removed]",
      "text/plain": [
       "<IPython.core.display.Image object>"
      ]
     },
     "metadata": {
      "image/png": {
       "unconfined": true,
       "width": 30
      }
     },
     "output_type": "display_data"
    },
    {
     "data": {
      "image/png": "[encoded data removed]",
      "text/plain": [
       "<IPython.core.display.Image object>"
      ]
     },
     "metadata": {
      "image/png": {
       "unconfined": true,
       "width": 30
      }
     },
     "output_type": "display_data"
    },
    {
     "data": {
      "image/png": "[encoded data removed]",
      "text/plain": [
       "<IPython.core.display.Image object>"
      ]
     },
     "metadata": {
      "image/png": {
       "unconfined": true,
       "width": 30
      }
     },
     "output_type": "display_data"
    },
    {
     "data": {
      "image/png": "[encoded data removed]",
      "text/plain": [
       "<IPython.core.display.Image object>"
      ]
     },
     "metadata": {
      "image/png": {
       "unconfined": true,
       "width": 30
      }
     },
     "output_type": "display_data"
    },
    {
     "data": {
      "image/png": "[encoded data removed]",
      "text/plain": [
       "<IPython.core.display.Image object>"
      ]
     },
     "metadata": {
      "image/png": {
       "unconfined": true,
       "width": 30
      }
     },
     "output_type": "display_data"
    },
    {
     "data": {
      "image/png": "[encoded data removed]",
      "text/plain": [
       "<IPython.core.display.Image object>"
      ]
     },
     "metadata": {
      "image/png": {
       "unconfined": true,
       "width": 30
      }
     },
     "output_type": "display_data"
    },
    {
     "data": {
      "image/png": "[encoded data removed]",
      "text/plain": [
       "<IPython.core.display.Image object>"
      ]
     },
     "metadata": {
      "image/png": {
       "unconfined": true,
       "width": 30
      }
     },
     "output_type": "display_data"
    },
    {
     "data": {
      "image/png": "[encoded data removed]",
      "text/plain": [
       "<IPython.core.display.Image object>"
      ]
     },
     "metadata": {
      "image/png": {
       "unconfined": true,
       "width": 30
      }
     },
     "output_type": "display_data"
    }
   ],
   "source": [
    "def view_some_samples(folder):\n",
    "    image_files = os.listdir(folder)\n",
    "    for index, image_file in enumerate(image_files):\n",
    "        if index % 20000 == 0:\n",
    "            image_path = os.path.join(folder, image_file)\n",
    "            display(Image(image_path, width=30, unconfined=True))\n",
    "\n",
    "for train_folder in train_folders:\n",
    "    view_some_samples(train_folder)"
   ]
  },
  {
   "cell_type": "code",
   "execution_count": 2,
   "metadata": {},
   "outputs": [],
   "source": [
    "image_size = 28  # Pixel width and height.\n",
    "pixel_depth = 255.0  # Number of levels per pixel."
   ]
  },
  {
   "cell_type": "code",
   "execution_count": 20,
   "metadata": {},
   "outputs": [
    {
     "name": "stdout",
     "output_type": "stream",
     "text": [
      "Pickling C:\\study\\AI Training and Jobs\\NLP_CV_Course\\week_9\\notMNIST_large\\A.pickle.\n",
      "C:\\study\\AI Training and Jobs\\NLP_CV_Course\\week_9\\notMNIST_large\\A\n",
      "Could not read: C:\\study\\AI Training and Jobs\\NLP_CV_Course\\week_9\\notMNIST_large\\A\\RnJlaWdodERpc3BCb29rSXRhbGljLnR0Zg==.png : Could not find a format to read the specified file in mode 'i' - it's ok, skipping.\n",
      "Could not read: C:\\study\\AI Training and Jobs\\NLP_CV_Course\\week_9\\notMNIST_large\\A\\SG90IE11c3RhcmQgQlROIFBvc3Rlci50dGY=.png : Could not find a format to read the specified file in mode 'i' - it's ok, skipping.\n",
      "Could not read: C:\\study\\AI Training and Jobs\\NLP_CV_Course\\week_9\\notMNIST_large\\A\\Um9tYW5hIEJvbGQucGZi.png : Could not find a format to read the specified file in mode 'i' - it's ok, skipping.\n",
      "Full dataset tensor: (52909, 28, 28)\n",
      "Mean: -0.12825024\n",
      "Standard deviation: 0.44312063\n",
      "Pickling C:\\study\\AI Training and Jobs\\NLP_CV_Course\\week_9\\notMNIST_large\\B.pickle.\n",
      "C:\\study\\AI Training and Jobs\\NLP_CV_Course\\week_9\\notMNIST_large\\B\n",
      "Could not read: C:\\study\\AI Training and Jobs\\NLP_CV_Course\\week_9\\notMNIST_large\\B\\TmlraXNFRi1TZW1pQm9sZEl0YWxpYy5vdGY=.png : Could not find a format to read the specified file in mode 'i' - it's ok, skipping.\n",
      "Full dataset tensor: (52911, 28, 28)\n",
      "Mean: -0.0075630303\n",
      "Standard deviation: 0.45449105\n",
      "Pickling C:\\study\\AI Training and Jobs\\NLP_CV_Course\\week_9\\notMNIST_large\\C.pickle.\n",
      "C:\\study\\AI Training and Jobs\\NLP_CV_Course\\week_9\\notMNIST_large\\C\n",
      "Full dataset tensor: (52912, 28, 28)\n",
      "Mean: -0.14225811\n",
      "Standard deviation: 0.43980625\n",
      "Pickling C:\\study\\AI Training and Jobs\\NLP_CV_Course\\week_9\\notMNIST_large\\D.pickle.\n",
      "C:\\study\\AI Training and Jobs\\NLP_CV_Course\\week_9\\notMNIST_large\\D\n",
      "Could not read: C:\\study\\AI Training and Jobs\\NLP_CV_Course\\week_9\\notMNIST_large\\D\\VHJhbnNpdCBCb2xkLnR0Zg==.png : Could not find a format to read the specified file in mode 'i' - it's ok, skipping.\n",
      "Full dataset tensor: (52911, 28, 28)\n",
      "Mean: -0.057367794\n",
      "Standard deviation: 0.45564765\n",
      "Pickling C:\\study\\AI Training and Jobs\\NLP_CV_Course\\week_9\\notMNIST_large\\E.pickle.\n",
      "C:\\study\\AI Training and Jobs\\NLP_CV_Course\\week_9\\notMNIST_large\\E\n",
      "Full dataset tensor: (52912, 28, 28)\n",
      "Mean: -0.06989899\n",
      "Standard deviation: 0.45294195\n",
      "Pickling C:\\study\\AI Training and Jobs\\NLP_CV_Course\\week_9\\notMNIST_large\\F.pickle.\n",
      "C:\\study\\AI Training and Jobs\\NLP_CV_Course\\week_9\\notMNIST_large\\F\n",
      "Full dataset tensor: (52912, 28, 28)\n",
      "Mean: -0.1255833\n",
      "Standard deviation: 0.44708964\n",
      "Pickling C:\\study\\AI Training and Jobs\\NLP_CV_Course\\week_9\\notMNIST_large\\G.pickle.\n",
      "C:\\study\\AI Training and Jobs\\NLP_CV_Course\\week_9\\notMNIST_large\\G\n",
      "Full dataset tensor: (52912, 28, 28)\n",
      "Mean: -0.09458135\n",
      "Standard deviation: 0.44623983\n",
      "Pickling C:\\study\\AI Training and Jobs\\NLP_CV_Course\\week_9\\notMNIST_large\\H.pickle.\n",
      "C:\\study\\AI Training and Jobs\\NLP_CV_Course\\week_9\\notMNIST_large\\H\n",
      "Full dataset tensor: (52912, 28, 28)\n",
      "Mean: -0.06852206\n",
      "Standard deviation: 0.45423177\n",
      "Pickling C:\\study\\AI Training and Jobs\\NLP_CV_Course\\week_9\\notMNIST_large\\I.pickle.\n",
      "C:\\study\\AI Training and Jobs\\NLP_CV_Course\\week_9\\notMNIST_large\\I\n",
      "Full dataset tensor: (52912, 28, 28)\n",
      "Mean: 0.03078625\n",
      "Standard deviation: 0.46889907\n",
      "Pickling C:\\study\\AI Training and Jobs\\NLP_CV_Course\\week_9\\notMNIST_large\\J.pickle.\n",
      "C:\\study\\AI Training and Jobs\\NLP_CV_Course\\week_9\\notMNIST_large\\J\n",
      "Full dataset tensor: (52911, 28, 28)\n",
      "Mean: -0.15335836\n",
      "Standard deviation: 0.44365644\n",
      "Pickling C:\\study\\AI Training and Jobs\\NLP_CV_Course\\week_9\\notMNIST_small\\A.pickle.\n",
      "C:\\study\\AI Training and Jobs\\NLP_CV_Course\\week_9\\notMNIST_small\\A\n",
      "Could not read: C:\\study\\AI Training and Jobs\\NLP_CV_Course\\week_9\\notMNIST_small\\A\\RGVtb2NyYXRpY2FCb2xkT2xkc3R5bGUgQm9sZC50dGY=.png : Could not find a format to read the specified file in mode 'i' - it's ok, skipping.\n",
      "Full dataset tensor: (1872, 28, 28)\n",
      "Mean: -0.13262637\n",
      "Standard deviation: 0.44512793\n",
      "Pickling C:\\study\\AI Training and Jobs\\NLP_CV_Course\\week_9\\notMNIST_small\\B.pickle.\n",
      "C:\\study\\AI Training and Jobs\\NLP_CV_Course\\week_9\\notMNIST_small\\B\n",
      "Full dataset tensor: (1873, 28, 28)\n",
      "Mean: 0.005356085\n",
      "Standard deviation: 0.45711532\n",
      "Pickling C:\\study\\AI Training and Jobs\\NLP_CV_Course\\week_9\\notMNIST_small\\C.pickle.\n",
      "C:\\study\\AI Training and Jobs\\NLP_CV_Course\\week_9\\notMNIST_small\\C\n",
      "Full dataset tensor: (1873, 28, 28)\n",
      "Mean: -0.1415206\n",
      "Standard deviation: 0.4426903\n",
      "Pickling C:\\study\\AI Training and Jobs\\NLP_CV_Course\\week_9\\notMNIST_small\\D.pickle.\n",
      "C:\\study\\AI Training and Jobs\\NLP_CV_Course\\week_9\\notMNIST_small\\D\n",
      "Full dataset tensor: (1873, 28, 28)\n",
      "Mean: -0.04921666\n",
      "Standard deviation: 0.4597589\n",
      "Pickling C:\\study\\AI Training and Jobs\\NLP_CV_Course\\week_9\\notMNIST_small\\E.pickle.\n",
      "C:\\study\\AI Training and Jobs\\NLP_CV_Course\\week_9\\notMNIST_small\\E\n",
      "Full dataset tensor: (1873, 28, 28)\n",
      "Mean: -0.05991479\n",
      "Standard deviation: 0.45734963\n",
      "Pickling C:\\study\\AI Training and Jobs\\NLP_CV_Course\\week_9\\notMNIST_small\\F.pickle.\n",
      "C:\\study\\AI Training and Jobs\\NLP_CV_Course\\week_9\\notMNIST_small\\F\n",
      "Could not read: C:\\study\\AI Training and Jobs\\NLP_CV_Course\\week_9\\notMNIST_small\\F\\Q3Jvc3NvdmVyIEJvbGRPYmxpcXVlLnR0Zg==.png : Could not find a format to read the specified file in mode 'i' - it's ok, skipping.\n",
      "Full dataset tensor: (1872, 28, 28)\n",
      "Mean: -0.118185304\n",
      "Standard deviation: 0.45227867\n",
      "Pickling C:\\study\\AI Training and Jobs\\NLP_CV_Course\\week_9\\notMNIST_small\\G.pickle.\n",
      "C:\\study\\AI Training and Jobs\\NLP_CV_Course\\week_9\\notMNIST_small\\G\n",
      "Full dataset tensor: (1872, 28, 28)\n",
      "Mean: -0.09255028\n",
      "Standard deviation: 0.44900584\n",
      "Pickling C:\\study\\AI Training and Jobs\\NLP_CV_Course\\week_9\\notMNIST_small\\H.pickle.\n",
      "C:\\study\\AI Training and Jobs\\NLP_CV_Course\\week_9\\notMNIST_small\\H\n",
      "Full dataset tensor: (1872, 28, 28)\n",
      "Mean: -0.05868925\n",
      "Standard deviation: 0.45875895\n",
      "Pickling C:\\study\\AI Training and Jobs\\NLP_CV_Course\\week_9\\notMNIST_small\\I.pickle.\n",
      "C:\\study\\AI Training and Jobs\\NLP_CV_Course\\week_9\\notMNIST_small\\I\n",
      "Full dataset tensor: (1872, 28, 28)\n",
      "Mean: 0.05264507\n",
      "Standard deviation: 0.47189355\n",
      "Pickling C:\\study\\AI Training and Jobs\\NLP_CV_Course\\week_9\\notMNIST_small\\J.pickle.\n",
      "C:\\study\\AI Training and Jobs\\NLP_CV_Course\\week_9\\notMNIST_small\\J\n",
      "Full dataset tensor: (1872, 28, 28)\n",
      "Mean: -0.15168911\n",
      "Standard deviation: 0.44801357\n"
     ]
    }
   ],
   "source": [
    "def load_letter(folder, min_num_images):\n",
    "  \"\"\"Load the data for a single letter label.\"\"\"\n",
    "  image_files = os.listdir(folder)\n",
    "  dataset = np.ndarray(shape=(len(image_files), image_size, image_size),\n",
    "                         dtype=np.float32)\n",
    "  print(folder)\n",
    "  num_images = 0\n",
    "  for image in image_files:\n",
    "    image_file = os.path.join(folder, image)\n",
    "    try:\n",
    "      image_data = (imageio.imread(image_file).astype(float) - \n",
    "                    pixel_depth / 2) / pixel_depth\n",
    "      if image_data.shape != (image_size, image_size):\n",
    "        raise Exception('Unexpected image shape: %s' % str(image_data.shape))\n",
    "      dataset[num_images, :, :] = image_data\n",
    "      num_images = num_images + 1\n",
    "    except (IOError, ValueError) as e:\n",
    "      print('Could not read:', image_file, ':', e, '- it\\'s ok, skipping.')\n",
    "    \n",
    "  dataset = dataset[0:num_images, :, :]\n",
    "  if num_images < min_num_images:\n",
    "    raise Exception('Many fewer images than expected: %d < %d' %\n",
    "                    (num_images, min_num_images))\n",
    "    \n",
    "  print('Full dataset tensor:', dataset.shape)\n",
    "  print('Mean:', np.mean(dataset))\n",
    "  print('Standard deviation:', np.std(dataset))\n",
    "  return dataset\n",
    "\n",
    "\n",
    "def maybe_pickle(data_folders, min_num_images_per_class, force=False):\n",
    "  dataset_names = []\n",
    "  for folder in data_folders:\n",
    "    set_filename = folder + '.pickle'\n",
    "    dataset_names.append(set_filename)\n",
    "    if os.path.exists(set_filename) and not force:\n",
    "      # You may override by setting force=True.\n",
    "      print('%s already present - Skipping pickling.' % set_filename)\n",
    "    else:\n",
    "      print('Pickling %s.' % set_filename)\n",
    "      dataset = load_letter(folder, min_num_images_per_class)\n",
    "      try:\n",
    "        with open(set_filename, 'wb') as f:\n",
    "          pickle.dump(dataset, f, pickle.HIGHEST_PROTOCOL)\n",
    "      except Exception as e:\n",
    "        print('Unable to save data to', set_filename, ':', e)\n",
    "  \n",
    "  return dataset_names\n",
    "\n",
    "train_datasets = maybe_pickle(train_folders, 45000)\n",
    "test_datasets = maybe_pickle(test_folders, 1800)"
   ]
  },
  {
   "cell_type": "markdown",
   "metadata": {},
   "source": [
    "## Problem 2"
   ]
  },
  {
   "cell_type": "code",
   "execution_count": 84,
   "metadata": {
    "scrolled": true
   },
   "outputs": [
    {
     "data": {
      "text/plain": [
       "<matplotlib.image.AxesImage at 0x3d576d0>"
      ]
     },
     "execution_count": 84,
     "metadata": {},
     "output_type": "execute_result"
    },
    {
     "data": {
      "image/png": "[encoded data removed]",
      "text/plain": [
       "<Figure size 432x288 with 4 Axes>"
      ]
     },
     "metadata": {
      "needs_background": "light"
     },
     "output_type": "display_data"
    }
   ],
   "source": [
    "data_with_pickle = []\n",
    "def verify_data(data):\n",
    "    global data_with_pickle\n",
    "    data_with_pickle = []\n",
    "    with (open(data, \"rb\")) as f:\n",
    "        data_with_pickle.append(pickle.load(f))\n",
    "\n",
    "verify_data(train_datasets[4])\n",
    "fig = plt.figure()\n",
    "ex1 = fig.add_subplot(221)\n",
    "ex1.set_title(\"index 10000 for training\")\n",
    "ex1.imshow(data_with_pickle[0][10000], aspect=\"auto\", cmap='gray')\n",
    "ex2 = fig.add_subplot(222)\n",
    "ex2.set_title(\"index 20000 for training\")\n",
    "ex2.imshow(data_with_pickle[0][20000], aspect=\"auto\", cmap='gray')\n",
    "\n",
    "\n",
    "verify_data(test_datasets[5])\n",
    "ex3 = fig.add_subplot(223)\n",
    "ex3.set_title(\"index 1000 for test\")\n",
    "ex3.imshow(data_with_pickle[0][1000], aspect=\"auto\", cmap='gray')\n",
    "ex4 = fig.add_subplot(224)\n",
    "ex4.set_title(\"index 1100 for test\")\n",
    "ex4.imshow(data_with_pickle[0][1100], aspect=\"auto\", cmap='gray')"
   ]
  },
  {
   "cell_type": "markdown",
   "metadata": {},
   "source": [
    "## Problem 3"
   ]
  },
  {
   "cell_type": "code",
   "execution_count": 49,
   "metadata": {},
   "outputs": [],
   "source": [
    "def verify_data_balanced(data):\n",
    "    global total_size\n",
    "    with (open(data, \"rb\")) as f:\n",
    "        temp = np.array(pickle.load(f), dtype= np.float32)\n",
    "        len, _, _ = temp.shape\n",
    "        data_size.append(len)\n",
    "        total_size += len\n",
    "verify_data_balanced(train_datasets[4])"
   ]
  },
  {
   "cell_type": "code",
   "execution_count": 98,
   "metadata": {},
   "outputs": [
    {
     "name": "stdout",
     "output_type": "stream",
     "text": [
      "The percentage quantity of training data is 0.09999546411548361.\n",
      "The percentage quantity of training data is 0.09999924401924727.\n",
      "The percentage quantity of training data is 0.1000011339711291.\n",
      "The percentage quantity of training data is 0.09999924401924727.\n",
      "The percentage quantity of training data is 0.1000011339711291.\n",
      "The percentage quantity of training data is 0.1000011339711291.\n",
      "The percentage quantity of training data is 0.1000011339711291.\n",
      "The percentage quantity of training data is 0.1000011339711291.\n",
      "The percentage quantity of training data is 0.1000011339711291.\n",
      "The percentage quantity of training data is 0.09999924401924727.\n",
      "The percentage quantity of test data is 0.0999786370433668.\n",
      "The percentage quantity of test data is 0.1000320444349498.\n",
      "The percentage quantity of test data is 0.1000320444349498.\n",
      "The percentage quantity of test data is 0.1000320444349498.\n",
      "The percentage quantity of test data is 0.1000320444349498.\n",
      "The percentage quantity of test data is 0.0999786370433668.\n",
      "The percentage quantity of test data is 0.0999786370433668.\n",
      "The percentage quantity of test data is 0.0999786370433668.\n",
      "The percentage quantity of test data is 0.0999786370433668.\n",
      "The percentage quantity of test data is 0.0999786370433668.\n"
     ]
    }
   ],
   "source": [
    "## For training data evaluation\n",
    "data_size = []\n",
    "total_size = 0\n",
    "\n",
    "for train_dataset in train_datasets:\n",
    "    verify_data_balanced(train_dataset)\n",
    "for value in data_size:\n",
    "    print(\"The percentage quantity of training data is {}.\".format(value / total_size))\n",
    "    \n",
    "    \n",
    "## For training data evaluation \n",
    "data_size = []\n",
    "total_size = 0\n",
    "\n",
    "for test_dataset in test_datasets:\n",
    "    verify_data_balanced(test_dataset)\n",
    "for value in data_size:\n",
    "    print(\"The percentage quantity of test data is {}.\".format(value / total_size))"
   ]
  },
  {
   "cell_type": "markdown",
   "metadata": {},
   "source": [
    "#### From the above infos, we know the data is balanced"
   ]
  },
  {
   "cell_type": "code",
   "execution_count": 3,
   "metadata": {},
   "outputs": [],
   "source": [
    "character_arr = ['A', 'B', 'C', 'D', 'E', 'F', 'G', 'H', 'I', 'J']\n",
    "train_datasets = []\n",
    "test_datasets = []\n",
    "for value in character_arr:\n",
    "    train_datasets.append(data_root + \"notMNIST_large\\\\\" + value + \".pickle\")\n",
    "    test_datasets.append(data_root + \"notMNIST_small\\\\\" + value + \".pickle\")"
   ]
  },
  {
   "cell_type": "code",
   "execution_count": 4,
   "metadata": {},
   "outputs": [
    {
     "name": "stdout",
     "output_type": "stream",
     "text": [
      "Training: (100000, 28, 28) (100000,)\n",
      "Validation: (5000, 28, 28) (5000,)\n",
      "Testing: (5000, 28, 28) (5000,)\n"
     ]
    }
   ],
   "source": [
    "def make_arrays(nb_rows, img_size):\n",
    "  if nb_rows:\n",
    "    dataset = np.ndarray((nb_rows, img_size, img_size), dtype=np.float32)\n",
    "    labels = np.ndarray(nb_rows, dtype=np.int32)\n",
    "  else:\n",
    "    dataset, labels = None, None\n",
    "  return dataset, labels\n",
    "\n",
    "def merge_datasets(pickle_files, train_size, valid_size=0):\n",
    "  num_classes = len(pickle_files)\n",
    "  valid_dataset, valid_labels = make_arrays(valid_size, image_size)\n",
    "  train_dataset, train_labels = make_arrays(train_size, image_size)\n",
    "  vsize_per_class = valid_size // num_classes\n",
    "  tsize_per_class = train_size // num_classes\n",
    "    \n",
    "  start_v, start_t = 0, 0\n",
    "  end_v, end_t = vsize_per_class, tsize_per_class\n",
    "  end_l = vsize_per_class+tsize_per_class\n",
    "  for label, pickle_file in enumerate(pickle_files):       \n",
    "    try:\n",
    "      with open(pickle_file, 'rb') as f:\n",
    "        letter_set = pickle.load(f)\n",
    "        # let's shuffle the letters to have random validation and training set\n",
    "        np.random.shuffle(letter_set)\n",
    "        if valid_dataset is not None:\n",
    "          valid_letter = letter_set[:vsize_per_class, :, :]\n",
    "          valid_dataset[start_v:end_v, :, :] = valid_letter\n",
    "          valid_labels[start_v:end_v] = label\n",
    "          start_v += vsize_per_class\n",
    "          end_v += vsize_per_class\n",
    "                    \n",
    "        train_letter = letter_set[vsize_per_class:end_l, :, :]\n",
    "        train_dataset[start_t:end_t, :, :] = train_letter\n",
    "        train_labels[start_t:end_t] = label\n",
    "        start_t += tsize_per_class\n",
    "        end_t += tsize_per_class\n",
    "    except Exception as e:\n",
    "      print('Unable to process data from', pickle_file, ':', e)\n",
    "      raise\n",
    "    \n",
    "  return valid_dataset, valid_labels, train_dataset, train_labels\n",
    "\n",
    "train_size = 100000\n",
    "valid_size = 5000\n",
    "test_size = 5000\n",
    "\n",
    "valid_dataset, valid_labels, train_dataset, train_labels = merge_datasets(train_datasets, train_size, valid_size)\n",
    "_, _, test_dataset, test_labels = merge_datasets(test_datasets, test_size)\n",
    "\n",
    "print('Training:', train_dataset.shape, train_labels.shape)\n",
    "print('Validation:', valid_dataset.shape, valid_labels.shape)\n",
    "print('Testing:', test_dataset.shape, test_labels.shape)"
   ]
  },
  {
   "cell_type": "code",
   "execution_count": 5,
   "metadata": {},
   "outputs": [],
   "source": [
    "def randomize(dataset, labels):\n",
    "  permutation = np.random.permutation(labels.shape[0])\n",
    "  shuffled_dataset = dataset[permutation,:,:]\n",
    "  shuffled_labels = labels[permutation]\n",
    "  return shuffled_dataset, shuffled_labels\n",
    "train_dataset, train_labels = randomize(train_dataset, train_labels)\n",
    "test_dataset, test_labels = randomize(test_dataset, test_labels)\n",
    "valid_dataset, valid_labels = randomize(valid_dataset, valid_labels)"
   ]
  },
  {
   "cell_type": "markdown",
   "metadata": {},
   "source": [
    "## Problem 4"
   ]
  },
  {
   "cell_type": "code",
   "execution_count": 23,
   "metadata": {},
   "outputs": [
    {
     "data": {
      "text/plain": [
       "<matplotlib.image.AxesImage at 0x49adcf0>"
      ]
     },
     "execution_count": 23,
     "metadata": {},
     "output_type": "execute_result"
    },
    {
     "data": {
      "image/png": "[encoded data removed]",
      "text/plain": [
       "<Figure size 432x288 with 3 Axes>"
      ]
     },
     "metadata": {
      "needs_background": "light"
     },
     "output_type": "display_data"
    }
   ],
   "source": [
    "fig = plt.figure()\n",
    "ex1 = fig.add_subplot(221)\n",
    "ex1.imshow(train_dataset[40], cmap='gray')               ## Showing image sample of the training data\n",
    "ex2 = fig.add_subplot(222)\n",
    "ex2.imshow(test_dataset[80], cmap='gray')               ## Showing image sample of the test data\n",
    "ex3 = fig.add_subplot(223)\n",
    "ex3.imshow(valid_dataset[60], cmap='gray')               ## Showing image sample of the valid data"
   ]
  },
  {
   "cell_type": "code",
   "execution_count": 9,
   "metadata": {},
   "outputs": [],
   "source": [
    "pickle_file = os.path.join(data_root, 'notMNIST.pickle')\n",
    "\n",
    "try:\n",
    "  f = open(pickle_file, 'wb')\n",
    "  save = {\n",
    "    'train_dataset': train_dataset,\n",
    "    'train_labels': train_labels,\n",
    "    'valid_dataset': valid_dataset,\n",
    "    'valid_labels': valid_labels,\n",
    "    'test_dataset': test_dataset,\n",
    "    'test_labels': test_labels,\n",
    "    }\n",
    "  pickle.dump(save, f, pickle.HIGHEST_PROTOCOL)\n",
    "  f.close()\n",
    "except Exception as e:\n",
    "  print('Unable to save data to', pickle_file, ':', e)\n",
    "  raise"
   ]
  },
  {
   "cell_type": "code",
   "execution_count": 10,
   "metadata": {},
   "outputs": [
    {
     "name": "stdout",
     "output_type": "stream",
     "text": [
      "Compressed pickle size: 345400506\n"
     ]
    }
   ],
   "source": [
    "statinfo = os.stat(pickle_file)\n",
    "print('Compressed pickle size:', statinfo.st_size)"
   ]
  },
  {
   "cell_type": "markdown",
   "metadata": {},
   "source": [
    "## Problem 5"
   ]
  },
  {
   "cell_type": "code",
   "execution_count": 3,
   "metadata": {},
   "outputs": [],
   "source": [
    "file_name = 'notMNIST.pickle'\n",
    "with open(data_root + file_name, 'rb') as f:\n",
    "    data = pickle.load(f)"
   ]
  },
  {
   "cell_type": "code",
   "execution_count": 4,
   "metadata": {},
   "outputs": [
    {
     "name": "stderr",
     "output_type": "stream",
     "text": [
      "C:\\Users\\WDMWDL\\Anaconda3\\lib\\site-packages\\ipykernel_launcher.py:2: DeprecationWarning: time.clock has been deprecated in Python 3.3 and will be removed from Python 3.8: use time.perf_counter or time.process_time instead\n",
      "  \n"
     ]
    },
    {
     "name": "stdout",
     "output_type": "stream",
     "text": [
      "Elapsing time is 2779.739212842\n"
     ]
    },
    {
     "name": "stderr",
     "output_type": "stream",
     "text": [
      "C:\\Users\\WDMWDL\\Anaconda3\\lib\\site-packages\\ipykernel_launcher.py:12: DeprecationWarning: time.clock has been deprecated in Python 3.3 and will be removed from Python 3.8: use time.perf_counter or time.process_time instead\n",
      "  if sys.path[0] == '':\n"
     ]
    }
   ],
   "source": [
    "overlap = []\n",
    "start = time.clock()\n",
    "for value in data['valid_dataset']:\n",
    "    overlap.append((data['train_dataset'] == [value]).all(axis=(1,2)).any(0))\n",
    "    \n",
    "for value in data['test_dataset']:\n",
    "    overlap.append((data['train_dataset'] == [value]).all(axis=(1,2)).any(0))\n",
    "    \n",
    "for value in data['test_dataset']:\n",
    "    overlap.append((data['valid_dataset'] == [value]).all(axis=(1,2)).any(0))\n",
    "    \n",
    "elapse = time.clock() - start\n",
    "print(\"Elapsing time is {}\".format(elapse))"
   ]
  },
  {
   "cell_type": "code",
   "execution_count": 7,
   "metadata": {},
   "outputs": [],
   "source": [
    "import pandas as pd\n",
    "overlap_pd = pd.Series(overlap)"
   ]
  },
  {
   "cell_type": "code",
   "execution_count": 17,
   "metadata": {},
   "outputs": [
    {
     "data": {
      "text/plain": [
       "773"
      ]
     },
     "execution_count": 17,
     "metadata": {},
     "output_type": "execute_result"
    }
   ],
   "source": [
    "overlap_pd[overlap_pd].count()"
   ]
  },
  {
   "cell_type": "markdown",
   "metadata": {},
   "source": [
    "#### From the above data, we konw the overlapping number is 773\n",
    "\n",
    "## Problem 6"
   ]
  },
  {
   "cell_type": "code",
   "execution_count": 4,
   "metadata": {},
   "outputs": [],
   "source": [
    "from sklearn.linear_model import LogisticRegression\n",
    "from sklearn.metrics import precision_score, recall_score, f1_score"
   ]
  },
  {
   "cell_type": "markdown",
   "metadata": {},
   "source": [
    "### Passing training data with number of 50"
   ]
  },
  {
   "cell_type": "code",
   "execution_count": 46,
   "metadata": {},
   "outputs": [],
   "source": [
    "image_size = 28\n",
    "def train_model(data_len):\n",
    "    train_data_real = data['train_dataset'][0:data_len].reshape(data_len, image_size * image_size)\n",
    "    train_label_real = data['train_labels'][0:data_len]\n",
    "    test_data_real = data['test_dataset'].reshape(len(data['test_dataset']), image_size * image_size)\n",
    "    test_label_real = data['test_labels']\n",
    "\n",
    "    clf_50 = LogisticRegression(random_state=24)\n",
    "    clf_50.fit(train_data_real, train_label_real)\n",
    "    print(\"The score is {} using training number of {}.\".format(clf_50.score(test_data_real, test_label_real), data_len))"
   ]
  },
  {
   "cell_type": "code",
   "execution_count": 48,
   "metadata": {},
   "outputs": [
    {
     "name": "stderr",
     "output_type": "stream",
     "text": [
      "C:\\Users\\WDMWDL\\Anaconda3\\lib\\site-packages\\sklearn\\linear_model\\logistic.py:433: FutureWarning: Default solver will be changed to 'lbfgs' in 0.22. Specify a solver to silence this warning.\n",
      "  FutureWarning)\n",
      "C:\\Users\\WDMWDL\\Anaconda3\\lib\\site-packages\\sklearn\\linear_model\\logistic.py:460: FutureWarning: Default multi_class will be changed to 'auto' in 0.22. Specify the multi_class option to silence this warning.\n",
      "  \"this warning.\", FutureWarning)\n"
     ]
    },
    {
     "name": "stdout",
     "output_type": "stream",
     "text": [
      "The score is 0.5978 using training number of 50.\n"
     ]
    },
    {
     "name": "stderr",
     "output_type": "stream",
     "text": [
      "C:\\Users\\WDMWDL\\Anaconda3\\lib\\site-packages\\sklearn\\linear_model\\logistic.py:433: FutureWarning: Default solver will be changed to 'lbfgs' in 0.22. Specify a solver to silence this warning.\n",
      "  FutureWarning)\n",
      "C:\\Users\\WDMWDL\\Anaconda3\\lib\\site-packages\\sklearn\\linear_model\\logistic.py:460: FutureWarning: Default multi_class will be changed to 'auto' in 0.22. Specify the multi_class option to silence this warning.\n",
      "  \"this warning.\", FutureWarning)\n"
     ]
    },
    {
     "name": "stdout",
     "output_type": "stream",
     "text": [
      "The score is 0.7304 using training number of 100.\n"
     ]
    },
    {
     "name": "stderr",
     "output_type": "stream",
     "text": [
      "C:\\Users\\WDMWDL\\Anaconda3\\lib\\site-packages\\sklearn\\linear_model\\logistic.py:433: FutureWarning: Default solver will be changed to 'lbfgs' in 0.22. Specify a solver to silence this warning.\n",
      "  FutureWarning)\n",
      "C:\\Users\\WDMWDL\\Anaconda3\\lib\\site-packages\\sklearn\\linear_model\\logistic.py:460: FutureWarning: Default multi_class will be changed to 'auto' in 0.22. Specify the multi_class option to silence this warning.\n",
      "  \"this warning.\", FutureWarning)\n"
     ]
    },
    {
     "name": "stdout",
     "output_type": "stream",
     "text": [
      "The score is 0.8188 using training number of 1000.\n"
     ]
    },
    {
     "name": "stderr",
     "output_type": "stream",
     "text": [
      "C:\\Users\\WDMWDL\\Anaconda3\\lib\\site-packages\\sklearn\\linear_model\\logistic.py:433: FutureWarning: Default solver will be changed to 'lbfgs' in 0.22. Specify a solver to silence this warning.\n",
      "  FutureWarning)\n",
      "C:\\Users\\WDMWDL\\Anaconda3\\lib\\site-packages\\sklearn\\linear_model\\logistic.py:460: FutureWarning: Default multi_class will be changed to 'auto' in 0.22. Specify the multi_class option to silence this warning.\n",
      "  \"this warning.\", FutureWarning)\n"
     ]
    },
    {
     "name": "stdout",
     "output_type": "stream",
     "text": [
      "The score is 0.8406 using training number of 5000.\n"
     ]
    }
   ],
   "source": [
    "train_model(50)\n",
    "train_model(100)\n",
    "train_model(1000)\n",
    "train_model(5000)"
   ]
  },
  {
   "cell_type": "code",
   "execution_count": 23,
   "metadata": {},
   "outputs": [
    {
     "ename": "ImportError",
     "evalue": "cannot import name 'Segmentor'",
     "output_type": "error",
     "traceback": [
      "\u001b[1;31m---------------------------------------------------------------------------\u001b[0m",
      "\u001b[1;31mImportError\u001b[0m                               Traceback (most recent call last)",
      "\u001b[1;32m<ipython-input-23-c9d829aa8208>\u001b[0m in \u001b[0;36m<module>\u001b[1;34m()\u001b[0m\n\u001b[1;32m----> 1\u001b[1;33m \u001b[1;32mfrom\u001b[0m \u001b[0mpyltp\u001b[0m \u001b[1;32mimport\u001b[0m \u001b[0mSegmentor\u001b[0m\u001b[1;33m\u001b[0m\u001b[1;33m\u001b[0m\u001b[0m\n\u001b[0m",
      "\u001b[1;31mImportError\u001b[0m: cannot import name 'Segmentor'"
     ]
    }
   ],
   "source": [
    "import pyltp"
   ]
  },
  {
   "cell_type": "code",
   "execution_count": null,
   "metadata": {},
   "outputs": [],
   "source": []
  },
  {
   "cell_type": "code",
   "execution_count": null,
   "metadata": {},
   "outputs": [],
   "source": []
  }
 ],
 "metadata": {
  "kernelspec": {
   "display_name": "Python 3",
   "language": "python",
   "name": "python3"
  }
 },
 "nbformat": 4,
 "nbformat_minor": 2
}
